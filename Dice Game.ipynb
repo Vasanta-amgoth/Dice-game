{
 "cells": [
  {
   "cell_type": "code",
   "execution_count": null,
   "id": "63905d51-295e-4ed4-be70-45344ee5dd20",
   "metadata": {},
   "outputs": [],
   "source": [
    " #Throw the Dice\n",
    "    print('Throw the Dice')\n",
    "    #Welcome User\n",
    "    print('Welcome to Throw the Dice')\n",
    "    #ask user no.\n",
    "    user_choice= int(input('please enter your choice'))\n",
    "    # Display user choice \n",
    "    print('user choice',user_choice)\n",
    "    # throw the dice \n",
    "    from random import randint\n",
    "    dice=randint(1,6)\n",
    "    print('Dice result :',dice)\n",
    "    #if dice==user choice <-- you win\n",
    "    if user_choice == dice:\n",
    "        print('You Win!')\n",
    "    #else you loset\n",
    "    else :\n",
    "        print('You Lose!') \n",
    "        \n",
    "    "
   ]
  }
 ],
 "metadata": {
  "kernelspec": {
   "display_name": "Python 3 (ipykernel)",
   "language": "python",
   "name": "python3"
  },
  "language_info": {
   "codemirror_mode": {
    "name": "ipython",
    "version": 3
   },
   "file_extension": ".py",
   "mimetype": "text/x-python",
   "name": "python",
   "nbconvert_exporter": "python",
   "pygments_lexer": "ipython3",
   "version": "3.12.4"
  }
 },
 "nbformat": 4,
 "nbformat_minor": 5
}
